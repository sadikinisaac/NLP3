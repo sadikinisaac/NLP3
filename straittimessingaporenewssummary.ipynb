{
  "nbformat": 4,
  "nbformat_minor": 0,
  "metadata": {
    "colab": {
      "name": "straittimessingaporenewssummary.ipynb",
      "provenance": [],
      "collapsed_sections": [],
      "authorship_tag": "ABX9TyOq8UdFcliv9aVByjm2IUwB",
      "include_colab_link": true
    },
    "kernelspec": {
      "name": "python3",
      "display_name": "Python 3"
    }
  },
  "cells": [
    {
      "cell_type": "markdown",
      "metadata": {
        "id": "view-in-github",
        "colab_type": "text"
      },
      "source": [
        "<a href=\"https://colab.research.google.com/github/sadikinisaac/NLP3/blob/master/straittimessingaporenewssummary.ipynb\" target=\"_parent\"><img src=\"https://colab.research.google.com/assets/colab-badge.svg\" alt=\"Open In Colab\"/></a>"
      ]
    },
    {
      "cell_type": "code",
      "metadata": {
        "id": "kxAy4AfBx9F4",
        "colab_type": "code",
        "outputId": "6986a5ca-3c54-40bf-b637-fda1d3d5b1d0",
        "colab": {
          "base_uri": "https://localhost:8080/",
          "height": 71
        }
      },
      "source": [
        "#Description: Scrape and Summarize News Articles - strait times \n",
        "#https://www.straitstimes.com/singapore/coronavirus-5-new-cases-confirmed-in-singapore-3-linked-to-grace-assembly-church\n",
        "\n",
        "\n",
        "!pip install nltk\n"
      ],
      "execution_count": 1,
      "outputs": [
        {
          "output_type": "stream",
          "text": [
            "Requirement already satisfied: nltk in /usr/local/lib/python3.6/dist-packages (3.2.5)\n",
            "Requirement already satisfied: six in /usr/local/lib/python3.6/dist-packages (from nltk) (1.12.0)\n"
          ],
          "name": "stdout"
        }
      ]
    },
    {
      "cell_type": "code",
      "metadata": {
        "id": "T1ZKGCO8ydj4",
        "colab_type": "code",
        "outputId": "cfe6bb93-8a99-4fb6-ce65-749cb6639aaf",
        "colab": {
          "base_uri": "https://localhost:8080/",
          "height": 870
        }
      },
      "source": [
        "!pip install newspaper3k"
      ],
      "execution_count": 2,
      "outputs": [
        {
          "output_type": "stream",
          "text": [
            "Collecting newspaper3k\n",
            "\u001b[?25l  Downloading https://files.pythonhosted.org/packages/d7/b9/51afecb35bb61b188a4b44868001de348a0e8134b4dfa00ffc191567c4b9/newspaper3k-0.2.8-py3-none-any.whl (211kB)\n",
            "\r\u001b[K     |█▌                              | 10kB 8.7MB/s eta 0:00:01\r\u001b[K     |███                             | 20kB 1.6MB/s eta 0:00:01\r\u001b[K     |████▋                           | 30kB 1.8MB/s eta 0:00:01\r\u001b[K     |██████▏                         | 40kB 1.7MB/s eta 0:00:01\r\u001b[K     |███████▊                        | 51kB 1.9MB/s eta 0:00:01\r\u001b[K     |█████████▎                      | 61kB 2.2MB/s eta 0:00:01\r\u001b[K     |██████████▉                     | 71kB 2.3MB/s eta 0:00:01\r\u001b[K     |████████████▍                   | 81kB 2.2MB/s eta 0:00:01\r\u001b[K     |██████████████                  | 92kB 2.5MB/s eta 0:00:01\r\u001b[K     |███████████████▌                | 102kB 2.5MB/s eta 0:00:01\r\u001b[K     |█████████████████               | 112kB 2.5MB/s eta 0:00:01\r\u001b[K     |██████████████████▋             | 122kB 2.5MB/s eta 0:00:01\r\u001b[K     |████████████████████▏           | 133kB 2.5MB/s eta 0:00:01\r\u001b[K     |█████████████████████▊          | 143kB 2.5MB/s eta 0:00:01\r\u001b[K     |███████████████████████▎        | 153kB 2.5MB/s eta 0:00:01\r\u001b[K     |████████████████████████▉       | 163kB 2.5MB/s eta 0:00:01\r\u001b[K     |██████████████████████████▍     | 174kB 2.5MB/s eta 0:00:01\r\u001b[K     |████████████████████████████    | 184kB 2.5MB/s eta 0:00:01\r\u001b[K     |█████████████████████████████▌  | 194kB 2.5MB/s eta 0:00:01\r\u001b[K     |███████████████████████████████ | 204kB 2.5MB/s eta 0:00:01\r\u001b[K     |████████████████████████████████| 215kB 2.5MB/s \n",
            "\u001b[?25hRequirement already satisfied: nltk>=3.2.1 in /usr/local/lib/python3.6/dist-packages (from newspaper3k) (3.2.5)\n",
            "Requirement already satisfied: Pillow>=3.3.0 in /usr/local/lib/python3.6/dist-packages (from newspaper3k) (6.2.2)\n",
            "Requirement already satisfied: PyYAML>=3.11 in /usr/local/lib/python3.6/dist-packages (from newspaper3k) (3.13)\n",
            "Requirement already satisfied: lxml>=3.6.0 in /usr/local/lib/python3.6/dist-packages (from newspaper3k) (4.2.6)\n",
            "Collecting tinysegmenter==0.3\n",
            "  Downloading https://files.pythonhosted.org/packages/17/82/86982e4b6d16e4febc79c2a1d68ee3b707e8a020c5d2bc4af8052d0f136a/tinysegmenter-0.3.tar.gz\n",
            "Collecting feedparser>=5.2.1\n",
            "\u001b[?25l  Downloading https://files.pythonhosted.org/packages/91/d8/7d37fec71ff7c9dbcdd80d2b48bcdd86d6af502156fc93846fb0102cb2c4/feedparser-5.2.1.tar.bz2 (192kB)\n",
            "\u001b[K     |████████████████████████████████| 194kB 4.7MB/s \n",
            "\u001b[?25hCollecting jieba3k>=0.35.1\n",
            "\u001b[?25l  Downloading https://files.pythonhosted.org/packages/a9/cb/2c8332bcdc14d33b0bedd18ae0a4981a069c3513e445120da3c3f23a8aaa/jieba3k-0.35.1.zip (7.4MB)\n",
            "\u001b[K     |████████████████████████████████| 7.4MB 5.4MB/s \n",
            "\u001b[?25hCollecting tldextract>=2.0.1\n",
            "\u001b[?25l  Downloading https://files.pythonhosted.org/packages/fd/0e/9ab599d6e78f0340bb1d1e28ddeacb38c8bb7f91a1b0eae9a24e9603782f/tldextract-2.2.2-py2.py3-none-any.whl (48kB)\n",
            "\u001b[K     |████████████████████████████████| 51kB 7.0MB/s \n",
            "\u001b[?25hCollecting feedfinder2>=0.0.4\n",
            "  Downloading https://files.pythonhosted.org/packages/35/82/1251fefec3bb4b03fd966c7e7f7a41c9fc2bb00d823a34c13f847fd61406/feedfinder2-0.0.4.tar.gz\n",
            "Requirement already satisfied: beautifulsoup4>=4.4.1 in /usr/local/lib/python3.6/dist-packages (from newspaper3k) (4.6.3)\n",
            "Requirement already satisfied: python-dateutil>=2.5.3 in /usr/local/lib/python3.6/dist-packages (from newspaper3k) (2.6.1)\n",
            "Requirement already satisfied: requests>=2.10.0 in /usr/local/lib/python3.6/dist-packages (from newspaper3k) (2.21.0)\n",
            "Collecting cssselect>=0.9.2\n",
            "  Downloading https://files.pythonhosted.org/packages/3b/d4/3b5c17f00cce85b9a1e6f91096e1cc8e8ede2e1be8e96b87ce1ed09e92c5/cssselect-1.1.0-py2.py3-none-any.whl\n",
            "Requirement already satisfied: six in /usr/local/lib/python3.6/dist-packages (from nltk>=3.2.1->newspaper3k) (1.12.0)\n",
            "Requirement already satisfied: setuptools in /usr/local/lib/python3.6/dist-packages (from tldextract>=2.0.1->newspaper3k) (45.1.0)\n",
            "Collecting requests-file>=1.4\n",
            "  Downloading https://files.pythonhosted.org/packages/23/9c/6e63c23c39e53d3df41c77a3d05a49a42c4e1383a6d2a5e3233161b89dbf/requests_file-1.4.3-py2.py3-none-any.whl\n",
            "Requirement already satisfied: idna in /usr/local/lib/python3.6/dist-packages (from tldextract>=2.0.1->newspaper3k) (2.8)\n",
            "Requirement already satisfied: chardet<3.1.0,>=3.0.2 in /usr/local/lib/python3.6/dist-packages (from requests>=2.10.0->newspaper3k) (3.0.4)\n",
            "Requirement already satisfied: urllib3<1.25,>=1.21.1 in /usr/local/lib/python3.6/dist-packages (from requests>=2.10.0->newspaper3k) (1.24.3)\n",
            "Requirement already satisfied: certifi>=2017.4.17 in /usr/local/lib/python3.6/dist-packages (from requests>=2.10.0->newspaper3k) (2019.11.28)\n",
            "Building wheels for collected packages: tinysegmenter, feedparser, jieba3k, feedfinder2\n",
            "  Building wheel for tinysegmenter (setup.py) ... \u001b[?25l\u001b[?25hdone\n",
            "  Created wheel for tinysegmenter: filename=tinysegmenter-0.3-cp36-none-any.whl size=13539 sha256=dd6420ad8f222cbb9e15ee814c757f0079ad8066d0fc8c5824766f0bc1b62816\n",
            "  Stored in directory: /root/.cache/pip/wheels/81/2b/43/a02ede72324dd40cdd7ca53aad718c7710628e91b8b0dc0f02\n",
            "  Building wheel for feedparser (setup.py) ... \u001b[?25l\u001b[?25hdone\n",
            "  Created wheel for feedparser: filename=feedparser-5.2.1-cp36-none-any.whl size=44940 sha256=969a6d5498cc6a4d5bf0a7c7b6d26ea357ce180e39d7e775e385d502e13430e2\n",
            "  Stored in directory: /root/.cache/pip/wheels/8c/69/b7/f52763c41c5471df57703a0ef718a32a5e81ee35dcf6d4f97f\n",
            "  Building wheel for jieba3k (setup.py) ... \u001b[?25l\u001b[?25hdone\n",
            "  Created wheel for jieba3k: filename=jieba3k-0.35.1-cp36-none-any.whl size=7398406 sha256=e44de72271622ae14b2122b33278e8f9bc35e955bf083be475cd15d5a0f2f80d\n",
            "  Stored in directory: /root/.cache/pip/wheels/83/15/9c/a3f1f67e7f7181170ad37d32e503c35da20627c013f438ed34\n",
            "  Building wheel for feedfinder2 (setup.py) ... \u001b[?25l\u001b[?25hdone\n",
            "  Created wheel for feedfinder2: filename=feedfinder2-0.0.4-cp36-none-any.whl size=3357 sha256=5dd71d027e0c79dcfa716c3a5405a0ce46c61ff670923a49c04d7d28929619ee\n",
            "  Stored in directory: /root/.cache/pip/wheels/de/03/ca/778e3a7a627e3d98836cc890e7cb40c7575424cfd3340f40ed\n",
            "Successfully built tinysegmenter feedparser jieba3k feedfinder2\n",
            "Installing collected packages: tinysegmenter, feedparser, jieba3k, requests-file, tldextract, feedfinder2, cssselect, newspaper3k\n",
            "Successfully installed cssselect-1.1.0 feedfinder2-0.0.4 feedparser-5.2.1 jieba3k-0.35.1 newspaper3k-0.2.8 requests-file-1.4.3 tinysegmenter-0.3 tldextract-2.2.2\n"
          ],
          "name": "stdout"
        }
      ]
    },
    {
      "cell_type": "code",
      "metadata": {
        "id": "CJVS1t3Syd5T",
        "colab_type": "code",
        "colab": {}
      },
      "source": [
        "#Import the libraries\n",
        "import nltk\n",
        "from newspaper import Article"
      ],
      "execution_count": 0,
      "outputs": []
    },
    {
      "cell_type": "code",
      "metadata": {
        "id": "SLXHCuRXyl79",
        "colab_type": "code",
        "colab": {}
      },
      "source": [
        "#Get the article\n",
        "url = 'https://www.straitstimes.com/singapore/coronavirus-5-new-cases-confirmed-in-singapore-3-linked-to-grace-assembly-church'\n",
        "article = Article(url)"
      ],
      "execution_count": 0,
      "outputs": []
    },
    {
      "cell_type": "code",
      "metadata": {
        "id": "ldHofkmuynix",
        "colab_type": "code",
        "outputId": "d5ec9999-7dc8-4bd4-a6cb-9eb3c63fceee",
        "colab": {
          "base_uri": "https://localhost:8080/",
          "height": 51
        }
      },
      "source": [
        "# Do some NLP\n",
        "article.download()\n",
        "article.parse()\n",
        "nltk.download('punkt')\n",
        "article.nlp()"
      ],
      "execution_count": 5,
      "outputs": [
        {
          "output_type": "stream",
          "text": [
            "[nltk_data] Downloading package punkt to /root/nltk_data...\n",
            "[nltk_data]   Unzipping tokenizers/punkt.zip.\n"
          ],
          "name": "stdout"
        }
      ]
    },
    {
      "cell_type": "code",
      "metadata": {
        "id": "iDVd0hq9yp9M",
        "colab_type": "code",
        "outputId": "e8ecb089-32fc-4860-a337-2cc43d0a3a38",
        "colab": {
          "base_uri": "https://localhost:8080/",
          "height": 34
        }
      },
      "source": [
        "#Get the authors\n",
        "article.authors"
      ],
      "execution_count": 6,
      "outputs": [
        {
          "output_type": "execute_result",
          "data": {
            "text/plain": [
              "['Melissa Heng']"
            ]
          },
          "metadata": {
            "tags": []
          },
          "execution_count": 6
        }
      ]
    },
    {
      "cell_type": "code",
      "metadata": {
        "id": "ilxUzPXMysMV",
        "colab_type": "code",
        "outputId": "4c5e6b00-ed08-4a44-e980-ef286f356039",
        "colab": {
          "base_uri": "https://localhost:8080/",
          "height": 34
        }
      },
      "source": [
        "#Get the publish date\n",
        "article.publish_date"
      ],
      "execution_count": 7,
      "outputs": [
        {
          "output_type": "execute_result",
          "data": {
            "text/plain": [
              "datetime.datetime(2020, 2, 15, 21, 13, 15, tzinfo=tzoffset(None, 28800))"
            ]
          },
          "metadata": {
            "tags": []
          },
          "execution_count": 7
        }
      ]
    },
    {
      "cell_type": "code",
      "metadata": {
        "id": "-kIwh-Apyt4B",
        "colab_type": "code",
        "outputId": "a8216a59-a170-4fe4-b617-445d963edc7a",
        "colab": {
          "base_uri": "https://localhost:8080/",
          "height": 54
        }
      },
      "source": [
        "#Get the top image \n",
        "article.top_image"
      ],
      "execution_count": 8,
      "outputs": [
        {
          "output_type": "execute_result",
          "data": {
            "text/plain": [
              "'https://www.straitstimes.com/sites/default/files/styles/x_large/public/articles/2020/02/15/ct-ncid-1502.jpg?itok=0WWizxIn'"
            ]
          },
          "metadata": {
            "tags": []
          },
          "execution_count": 8
        }
      ]
    },
    {
      "cell_type": "code",
      "metadata": {
        "id": "-LpHoc6DyxGj",
        "colab_type": "code",
        "outputId": "df2fdbd4-55b5-4496-8679-fe25182dc521",
        "colab": {
          "base_uri": "https://localhost:8080/",
          "height": 530
        }
      },
      "source": [
        "#Get the article text\n",
        "print(article.text)"
      ],
      "execution_count": 9,
      "outputs": [
        {
          "output_type": "stream",
          "text": [
            "There are now 72 cases of Covid-19 infections in Singapore, with five new cases confirmed on Saturday.\n",
            "\n",
            "Three of the new cases are linked to the cluster at the Grace Assembly of God church, which means two clusters are linked to places of worship, prompting churches here to step up precautionary measures or even cancel church services.\n",
            "\n",
            "One of the other cases is linked to the cluster at the Seletar Aerospace Heights construction site. The fifth is a non-medical contact of case 59, a 61-year-old doctor.\n",
            "\n",
            "The Ministry of Health said none of the new cases have any recent travel history to China.\n",
            "\n",
            "Meanwhile, one more patient, a 32-year-old woman who is case 24, has been discharged. In all, 18 have fully recovered and have been discharged from hospital.\n",
            "\n",
            "Of the 54 confirmed cases who are still in hospital, most are stable or improving. Six are in the intensive care unit.\n",
            "\n",
            "With 16 confirmed cases, Grace Assembly of God has the largest cluster here now. Services and activities at both its branches have been suspended for two weeks.\n",
            "\n",
            "Catholic masses for the public have also been suspended indefinitely, since Saturday.\n",
            "\n",
            "Weekend church services at Adam Road Presbyterian Church are also on hold for two weeks, while churches such as Barker Road Methodist and Faith Methodist are carrying out measures like temperature checks and attendance taking in case there is a need for contact tracing.\n",
            "\n",
            "Related Story Coronavirus cases in Singapore: What we know so far\n",
            "\n",
            "As of noon on Saturday, the MOH had identified 2,093 close contacts. Of the 1,959 who are still in Singapore, 1,697 have been contacted and are in quarantine or isolation.\n",
            "\n",
            "On Friday, the MOH reactivated its network of 900 general practice clinics, designated Public Health Preparedness Clinics (PHPCs), which provide subsidised treatment, investigations and drugs during public health outbreaks for patients with symptoms.\n",
            "\n",
            "Singapore citizens and permanent residents will pay a flat subsidised rate of $10 for consultation and treatment at PHPCs. Pioneer Generation and Merdeka Generation seniors pay $5. Patients with respiratory symptoms can also go to polyclinics, where the subsidies will also apply.\n",
            "\n",
            "Doctors have been advised to give five days of sick leave to patients with respiratory symptoms to prevent further community spread of the coronavirus.\n",
            "\n",
            "Other clusters so far are the Life Church and Missions Singapore, the Yong Thai Hang health products shop, the Grand Hyatt Singapore and a Seletar Aerospace Heights construction site.\n"
          ],
          "name": "stdout"
        }
      ]
    },
    {
      "cell_type": "code",
      "metadata": {
        "id": "ah_e2mMmyyYc",
        "colab_type": "code",
        "outputId": "e373819c-6090-4b81-ef81-9805a98466d0",
        "colab": {
          "base_uri": "https://localhost:8080/",
          "height": 122
        }
      },
      "source": [
        "#Get a summary of the article\n",
        "print(article.summary)"
      ],
      "execution_count": 10,
      "outputs": [
        {
          "output_type": "stream",
          "text": [
            "There are now 72 cases of Covid-19 infections in Singapore, with five new cases confirmed on Saturday.\n",
            "One of the other cases is linked to the cluster at the Seletar Aerospace Heights construction site.\n",
            "Of the 54 confirmed cases who are still in hospital, most are stable or improving.\n",
            "With 16 confirmed cases, Grace Assembly of God has the largest cluster here now.\n",
            "Related Story Coronavirus cases in Singapore: What we know so farAs of noon on Saturday, the MOH had identified 2,093 close contacts.\n"
          ],
          "name": "stdout"
        }
      ]
    }
  ]
}